{
 "cells": [
  {
   "cell_type": "code",
   "execution_count": 2,
   "metadata": {
    "collapsed": true
   },
   "outputs": [],
   "source": [
    "import pandas as pd\n",
    "import numpy as np\n",
    "import re\n",
    "from datetime import datetime"
   ]
  },
  {
   "cell_type": "code",
   "execution_count": 8,
   "metadata": {
    "collapsed": false
   },
   "outputs": [],
   "source": [
    "test_messages = pd.DataFrame(np.random.randn(5,3), columns=['x','y','z'])\n",
    "t = \"adasd vcvc TeStEr\"\n",
    "df = pd.DataFrame({'A' : ['foo', 'bar', 'foo', 'bar', 'foo', 'bar', 'foo', 'foo'], 'B' : np.random.randn(8)})\n",
    "dict1 = {'x': 10, 'y': 20, 'z': 30}\n",
    "dict2 = {'x': 10, 'y': 0, 'z': 15}"
   ]
  },
  {
   "cell_type": "code",
   "execution_count": 35,
   "metadata": {
    "collapsed": false
   },
   "outputs": [],
   "source": [
    "# type(t)\n",
    "# len(t)\n",
    "# len(t.split())\n",
    "# t.upper()\n",
    "# t.capitalize()\n",
    "# t.title()"
   ]
  },
  {
   "cell_type": "code",
   "execution_count": 32,
   "metadata": {
    "collapsed": false
   },
   "outputs": [],
   "source": [
    "# for col in test_messages:\n",
    "#     print col\n",
    "    \n",
    "# for col, val in test_messages.iteritems():\n",
    "#     print col\n",
    "#     print val\n",
    "\n",
    "# for index, val in test_messages.iterrows():\n",
    "#     print index\n",
    "#     print val\n",
    "\n",
    "# for row in test_messages.itertuples():\n",
    "#     print row.Index\n",
    "#     print row.x, row.y, row.z"
   ]
  }
 ],
 "metadata": {
  "kernelspec": {
   "display_name": "Python 2",
   "language": "python",
   "name": "python2"
  },
  "language_info": {
   "codemirror_mode": {
    "name": "ipython",
    "version": 2
   },
   "file_extension": ".py",
   "mimetype": "text/x-python",
   "name": "python",
   "nbconvert_exporter": "python",
   "pygments_lexer": "ipython2",
   "version": "2.7.12"
  }
 },
 "nbformat": 4,
 "nbformat_minor": 0
}
