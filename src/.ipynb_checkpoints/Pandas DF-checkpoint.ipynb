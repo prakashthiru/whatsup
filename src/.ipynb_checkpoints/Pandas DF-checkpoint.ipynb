{
 "cells": [
  {
   "cell_type": "code",
   "execution_count": 1,
   "metadata": {
    "collapsed": true
   },
   "outputs": [],
   "source": [
    "import pandas as pd\n",
    "import numpy as np\n",
    "import re\n",
    "from datetime import datetime"
   ]
  },
  {
   "cell_type": "code",
   "execution_count": 2,
   "metadata": {
    "collapsed": false
   },
   "outputs": [],
   "source": [
    "# data = pd.read_csv(\"../data/web2LabsChat.csv\")\n",
    "messages = pd.DataFrame(columns=['date', 'time', 'sender', 'message'])\n",
    "regex_one = re.compile('(^\\d+\\/\\d+\\/\\d\\d), (\\d+:\\d+) - (.*): (.*)')"
   ]
  },
  {
   "cell_type": "code",
   "execution_count": 4,
   "metadata": {
    "collapsed": false
   },
   "outputs": [],
   "source": [
    "line = \"1/10/16, 22:12 - TCS Amernath: still i dont get the joke\"\n",
    "# line = \"1/10/16, 22:13 - TCS Ethiraj: Does anyone know about basera restaurant?\"\n",
    "match_text = regex_one.search(line)\n",
    "messages.loc[len(messages)+1] = [match_text.group(1), match_text.group(2), match_text.group(3), match_text.group(4)]"
   ]
  },
  {
   "cell_type": "code",
   "execution_count": 321,
   "metadata": {
    "collapsed": false
   },
   "outputs": [],
   "source": [
    "# test = pd.Series(np.nan, index=[49,53,67,46,15, 1, 2, 3, 4, 5])\n",
    "# test.iloc[:3]\n",
    "\n",
    "# messages.sort_index(ascending=False)\n",
    "# messages.sort_values(by='time')\n",
    "# test_messages.sort_values(by=['y','z'])\n",
    "# messages.set_index('date')\n",
    "# messagesT = messages.T\n",
    "# messages.index[1]\n",
    "# len(messages)\n",
    "\n",
    "# messages.columns\n",
    "# len(messages.columns)\n",
    "# list(messages.columns)\n",
    "# tuple(messages.columns)"
   ]
  },
  {
   "cell_type": "code",
   "execution_count": 52,
   "metadata": {
    "collapsed": false
   },
   "outputs": [],
   "source": [
    "# messages['sender']\n",
    "# messages.loc[:1,['sender']]\n",
    "# messages.iloc[0]\n",
    "# messages.iloc[1:3,0:3]\n",
    "# messages.iloc[[0,1],0:3]\n",
    "# messages.ix[1]\n",
    "# messages.ix[:,['date']]\n",
    "# messages.iat[1,1]\n",
    "\n",
    "# messagesT[1]\n",
    "# messagesT.loc['date']\n",
    "# messagesT.iloc[0]\n",
    "# messagesT.ix[0]\n",
    "# messagesT.ix['date']\n",
    "# messagesT.ix[:,['date']]\n",
    "# messagesT.iat[1,1]"
   ]
  },
  {
   "cell_type": "code",
   "execution_count": 51,
   "metadata": {
    "collapsed": false
   },
   "outputs": [],
   "source": [
    "# exc = ['22:13']\n",
    "# messages[messages.date == '1/10/16']\n",
    "# messages[messages['time'] == '22:13']\n",
    "# messages.loc[messages['time'] == '22:13']\n",
    "# messages[~messages.time.isin(exc)]\n",
    "# messages.query('time in @exc')\n"
   ]
  },
  {
   "cell_type": "code",
   "execution_count": 5,
   "metadata": {
    "collapsed": false
   },
   "outputs": [],
   "source": [
    "# copy_messages = messages.copy()\n",
    "# copy_messages['extra'] = 2*['test']\n",
    "# copy_messages.extra = ['test2', 'test3']\n",
    "\n",
    "# copy_messages.drop('time', 1)\n",
    "# copy_messages.drop(['date', 'time'], 1)\n",
    "# copy_messages.drop(1,0)\n",
    "\n",
    "# copy_messages.drop('extra', 1, inplace=True)\n",
    "# copy_messages.drop(copy_messages.index[[0]])\n",
    "# del copy_messages['extra']\n"
   ]
  },
  {
   "cell_type": "code",
   "execution_count": 36,
   "metadata": {
    "collapsed": false
   },
   "outputs": [],
   "source": [
    "# copy_messages[copy_messages > 0] = 'change_values'\n",
    "# copy_messages.loc[1].date = '1/1/1'\n",
    "# copy_messages.loc[3] = [match_text.group(1), match_text.group(2), match_text.group(3), match_text.group(4)]\n",
    "# copy_messages.iat[2,3] = np.nan\n",
    "\n",
    "# copy_messages.fillna(value='hello')\n",
    "# copy_messages.dropna(how='any')\n",
    "\n",
    "# copy_messages.isnull()\n",
    "# pd.isnull(copy_messages)\n",
    "# copy_messages.isnull().values.any()\n",
    "\n",
    "# copy_messages.loc[pd.isnull(copy_messages.message)]\n",
    "# copy_messages.loc[copy_messages.message.isnull()]\n",
    "# copy_messages[copy_messages.message.isnull()]\n",
    "# copy_messages.notnull()\n"
   ]
  },
  {
   "cell_type": "code",
   "execution_count": 166,
   "metadata": {
    "collapsed": false
   },
   "outputs": [],
   "source": [
    "# test_messages = pd.DataFrame(np.random.randint(10,50,size=(5,3)), columns=['x','y','z'])\n",
    "\n",
    "# test_messages.get_dtype_counts()\n",
    "# test_messages.x.count\n",
    "# test_messages.axes[1]\n",
    "# test_messages.sum(axis=1)\n",
    "# test_messages.mean()\n",
    "# test_messages.mean(1)\n",
    "# test_messages['z'].mean()\n",
    "# test_messages.apply(np.cumsum)\n",
    "# np.cumsum(test_messages, axis=1)\n",
    "# test_messages.cumsum()\n",
    "# test_messages.cumsum(1)\n",
    "# test_messages['x'].cumsum()\n",
    "\n",
    "# test_messages.apply(lambda x: x.max()-x.min())\n",
    "# test_messages.T.apply(lambda x: x.max()-x.min())"
   ]
  },
  {
   "cell_type": "code",
   "execution_count": 376,
   "metadata": {
    "collapsed": true
   },
   "outputs": [
    {
     "data": {
      "text/html": [
       "<div>\n",
       "<table border=\"1\" class=\"dataframe\">\n",
       "  <thead>\n",
       "    <tr style=\"text-align: right;\">\n",
       "      <th></th>\n",
       "      <th>x</th>\n",
       "      <th>y</th>\n",
       "      <th>z</th>\n",
       "    </tr>\n",
       "  </thead>\n",
       "  <tbody>\n",
       "    <tr>\n",
       "      <th>0</th>\n",
       "      <td>49</td>\n",
       "      <td>20</td>\n",
       "      <td>44</td>\n",
       "    </tr>\n",
       "    <tr>\n",
       "      <th>1</th>\n",
       "      <td>44</td>\n",
       "      <td>39</td>\n",
       "      <td>34</td>\n",
       "    </tr>\n",
       "    <tr>\n",
       "      <th>2</th>\n",
       "      <td>32</td>\n",
       "      <td>36</td>\n",
       "      <td>11</td>\n",
       "    </tr>\n",
       "    <tr>\n",
       "      <th>3</th>\n",
       "      <td>31</td>\n",
       "      <td>31</td>\n",
       "      <td>44</td>\n",
       "    </tr>\n",
       "    <tr>\n",
       "      <th>4</th>\n",
       "      <td>42</td>\n",
       "      <td>45</td>\n",
       "      <td>14</td>\n",
       "    </tr>\n",
       "  </tbody>\n",
       "</table>\n",
       "</div>"
      ],
      "text/plain": [
       "    x   y   z\n",
       "0  49  20  44\n",
       "1  44  39  34\n",
       "2  32  36  11\n",
       "3  31  31  44\n",
       "4  42  45  14"
      ]
     },
     "execution_count": 376,
     "metadata": {},
     "output_type": "execute_result"
    }
   ],
   "source": [
    "# np.random.randn(5)\n",
    "# np.random.randint(5, size=(2, 4))\n",
    "# pd.DataFrame(np.random.randn(5,3), columns=['x','y','z'])\n",
    "# test_messages.idxmin(), test_messages.idxmax()\n",
    "\n",
    "# test_messages.min(), test_messages.max()\n",
    "# test_messages.min(axis=1)\n",
    "# test_messages.z.min()\n",
    "# test_messages.loc[3:3].max(1)\n",
    "# test_messages.loc[3].max()\n",
    "\n",
    "# test_messages.loc[3].mode()\n",
    "# test_messages.z.mode()\n",
    "# test_messages.z.value_counts()\n",
    "# test_messages.apply(np.exp)\n",
    "# test_messages.loc[3].value_counts()\n",
    "\n",
    "# test_messages.reindex(index=[3,2,4,0,1])\n",
    "# test_messages.reindex(columns=['y','z','x'])\n",
    "# test_messages.rename(columns={'x':'a', 'y':'b'}, index={1:8})\n",
    "\n",
    "# ap_msg = test_messages.iloc[3]\n",
    "# test_messages.append(ap_msg, ignore_index=True)\n",
    "\n",
    "# test_msg = [test_messages[0:2], test_messages[3:4]]\n",
    "# pd.concat(test_msg)\n",
    "\n",
    "# test_messages.groupby('z').sum()\n",
    "\n",
    "# stacked_test_messages = test_messages.stack()\n",
    "# stacked_test_messages.unstack()"
   ]
  },
  {
   "cell_type": "code",
   "execution_count": 256,
   "metadata": {
    "collapsed": false
   },
   "outputs": [],
   "source": [
    "# df = pd.DataFrame({'A' : ['foo', 'bar', 'foo', 'bar', 'foo', 'bar', 'foo', 'foo'], 'B' : np.random.randn(8)})\n",
    "# df.groupby('A').B.apply(lambda x: pd.Series([(x > 0).sum()])).unstack()"
   ]
  }
 ],
 "metadata": {
  "kernelspec": {
   "display_name": "Python 2",
   "language": "python",
   "name": "python2"
  },
  "language_info": {
   "codemirror_mode": {
    "name": "ipython",
    "version": 2
   },
   "file_extension": ".py",
   "mimetype": "text/x-python",
   "name": "python",
   "nbconvert_exporter": "python",
   "pygments_lexer": "ipython2",
   "version": "2.7.12"
  }
 },
 "nbformat": 4,
 "nbformat_minor": 0
}
