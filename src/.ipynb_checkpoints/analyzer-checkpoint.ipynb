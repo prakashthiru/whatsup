{
 "cells": [
  {
   "cell_type": "code",
   "execution_count": 1,
   "metadata": {
    "collapsed": true
   },
   "outputs": [],
   "source": [
    "import sys\n",
    "import pandas as pd\n",
    "import re\n",
    "from datetime import datetime\n",
    "\n",
    "reload(sys)  \n",
    "sys.setdefaultencoding('utf8')"
   ]
  },
  {
   "cell_type": "code",
   "execution_count": 2,
   "metadata": {
    "collapsed": true
   },
   "outputs": [],
   "source": [
    "file_content = open('../data/test.txt', 'r').read().splitlines()"
   ]
  },
  {
   "cell_type": "code",
   "execution_count": 4,
   "metadata": {
    "collapsed": true
   },
   "outputs": [],
   "source": [
    "df = pd.DataFrame(columns=['user', 'action', 'text', 'timestamp', 'date', 'month', 'day', 'hour'])\n",
    "\n",
    "message_action = 'message'\n",
    "media_action = 'media'\n",
    "create_action = 'create'\n",
    "title_action = 'title_change'\n",
    "contact_action = 'contact_change'\n",
    "icon_action = 'icon_change'\n",
    "join_action = 'join'\n",
    "remove_action = 'remove'\n",
    "leave_action = 'left'\n",
    "\n",
    "media_finder = '<Media omitted>'\n",
    "create_finder = 'created group'\n",
    "title_finder = 'changed the subject'\n",
    "contact_finder = 'changed from'\n",
    "icon_finder = ['changed', 'icon']\n",
    "join_finder = 'added'\n",
    "remove_finder = 'removed'\n",
    "leave_finder = 'left'\n",
    "\n",
    "title_actions = [create_action, title_action]\n",
    "msg_actions = [message_action, media_action]\n",
    "lead_actions = [create_action, icon_action, title_action, join_action, remove_action]"
   ]
  },
  {
   "cell_type": "code",
   "execution_count": 5,
   "metadata": {
    "collapsed": false
   },
   "outputs": [],
   "source": [
    "for message in file_content:\n",
    "    msg_regex = re.compile('(^\\d+\\/\\d+\\/\\d+, \\d+:\\d+) - (.*)')\n",
    "    splitted_msg = msg_regex.search(message)\n",
    "    if splitted_msg is not None:\n",
    "        time_string = datetime.strptime(splitted_msg.group(1), '%m/%d/%y, %H:%M')\n",
    "\n",
    "        timestamp = time_string.strftime('%x %X')\n",
    "        date = time_string.strftime('%x')\n",
    "        month = time_string.strftime('%B')\n",
    "        day = time_string.strftime('%A')\n",
    "        hour = time_string.strftime('%I %p')\n",
    "\n",
    "        parsed_content = splitted_msg.group(2).split(':', 1)\n",
    "\n",
    "        if len(parsed_content) > 1:\n",
    "            user = parsed_content[0]\n",
    "            text = parsed_content[1].strip()\n",
    "            action = media_action if text == media_finder else message_action\n",
    "\n",
    "        else:\n",
    "            if title_finder in parsed_content[0]:\n",
    "                user = parsed_content[0].split(title_finder)[0]\n",
    "                text = parsed_content[0].split('to', 1)[-1].strip()\n",
    "                action = title_action\n",
    "\n",
    "            elif all(x in parsed_content[0] for x in icon_finder):\n",
    "                user = parsed_content[0].split('changed')[0]\n",
    "                text = None\n",
    "                action = icon_action\n",
    "\n",
    "            elif contact_finder in parsed_content[0]:\n",
    "                user = parsed_content[0].split(contact_finder)[0]\n",
    "                text = None\n",
    "                action = contact_action\n",
    "\n",
    "            elif join_finder in parsed_content[0]:\n",
    "                sub_content = parsed_content[0].split(join_finder)\n",
    "                user = sub_content[0]\n",
    "                text = sub_content[1].strip()\n",
    "                action = join_action\n",
    "\n",
    "            elif remove_finder in parsed_content[0]:\n",
    "                sub_content = parsed_content[0].split(join_finder)\n",
    "                user = sub_content[0]\n",
    "                text = sub_content[1].strip()\n",
    "                action = remove_action\n",
    "\n",
    "            elif leave_finder in parsed_content[0]:\n",
    "                user = parsed_content[0].split(leave_finder)[0]\n",
    "                text = None\n",
    "                action = leave_action\n",
    "\n",
    "            elif create_finder in parsed_content[0]:\n",
    "                sub_content = parsed_content[0].split(create_finder)\n",
    "                user = sub_content[0].strip()\n",
    "                text = sub_content[-1].strip()\n",
    "                action = create_action\n",
    "\n",
    "        df.loc[len(df)] = [user, action, text, timestamp, date, month, day, hour]\n",
    "\n",
    "    else:\n",
    "        pass"
   ]
  },
  {
   "cell_type": "code",
   "execution_count": 6,
   "metadata": {
    "collapsed": true
   },
   "outputs": [],
   "source": [
    "def strip_time(timestamp):\n",
    "    return datetime.strptime(timestamp, \"%x %X\")\n",
    "\n",
    "def current_time():\n",
    "    return datetime.now().strftime('%x %X')\n",
    "\n",
    "def get_title_period(data):\n",
    "    h = {}\n",
    "    length = len(data)\n",
    "    for i in range(length):\n",
    "        prev_time = strip_time(data.iloc[i].timestamp)\n",
    "        new_time = (strip_time(data.iloc[i+1].timestamp)) if i < length-1 else (strip_time(current_time()))\n",
    "        h[data.iloc[i].text] = (new_time - prev_time).seconds\n",
    "    return h"
   ]
  },
  {
   "cell_type": "code",
   "execution_count": 7,
   "metadata": {
    "collapsed": false
   },
   "outputs": [],
   "source": [
    "date_activity = df['date'].value_counts()\n",
    "user_activity = df['user'].value_counts()\n",
    "\n",
    "active_date = date_activity.idxmax()\n",
    "active_user = user_activity.idxmax()\n",
    "active_day = df['day'].value_counts().idxmax()\n",
    "active_hour = df['hour'].value_counts().idxmax()\n",
    "\n",
    "media_share = df[df.action == media_action].user.value_counts().to_dict()\n",
    "icon_change = df[df.action == icon_action].user.value_counts().idxmax()\n",
    "contact_change = df[df.action == contact_action].user.value_counts().idxmax()\n",
    "creator = df[df.action == create_action].user[0]\n",
    "\n",
    "title_data = df.query('action in @title_actions')\n",
    "title_change = title_data.user.value_counts().idxmax()\n",
    "\n",
    "all_titles = title_data.text.values\n",
    "title_period = get_title_period(title_data)\n",
    "stable_title = max(title_period, key=title_period.get)\n",
    "\n",
    "message_data = df.query('action in @msg_actions')\n",
    "total_messages = len(message_data)\n",
    "talker = message_data.user.value_counts().idxmax()\n",
    "silent_killer = message_data.user.value_counts().idxmin()\n",
    "\n",
    "supervisor = df.query('action in @lead_actions').user.value_counts().idxmax()"
   ]
  },
  {
   "cell_type": "code",
   "execution_count": 29,
   "metadata": {
    "collapsed": false
   },
   "outputs": [
    {
     "data": {
      "text/plain": [
       "'TCS Ethiraj '"
      ]
     },
     "execution_count": 29,
     "metadata": {},
     "output_type": "execute_result"
    }
   ],
   "source": [
    "# date_activity\n",
    "# user_activity\n",
    "# active_date\n",
    "# active_user\n",
    "# active_day\n",
    "# active_hour\n",
    "# media_share\n",
    "# icon_change\n",
    "# contact_change\n",
    "# creator\n",
    "# title_change\n",
    "# all_titles\n",
    "# stable_title\n",
    "# total_messages\n",
    "# talker\n",
    "# silent_killer\n",
    "# supervisor"
   ]
  },
  {
   "cell_type": "code",
   "execution_count": 8,
   "metadata": {
    "collapsed": true
   },
   "outputs": [
    {
     "data": {
      "text/plain": [
       "['Join',\n",
       " 'me',\n",
       " 'Elixir-Ruby',\n",
       " 'joint',\n",
       " 'meet',\n",
       " '9',\n",
       " 'Jan',\n",
       " '2:00',\n",
       " 'pm:',\n",
       " 'Today',\n",
       " 'n',\n",
       " '2mrw',\n",
       " 'onnuke',\n",
       " 'vaku',\n",
       " 'illa',\n",
       " '\\xf0\\x9f\\x98\\x82\\xf0\\x9f\\x98\\x82',\n",
       " '\\xf0\\x9f\\x98\\x82\\xf0\\x9f\\x98\\x82',\n",
       " 'Guy1',\n",
       " ':',\n",
       " 'enga',\n",
       " 'vela',\n",
       " 'pakra',\n",
       " 'pa?',\n",
       " 'still',\n",
       " 'i',\n",
       " 'dont',\n",
       " 'get',\n",
       " 'joke',\n",
       " '\\xe0\\xae\\x87\\xe0\\xae\\xb5\\xe0\\xae\\xa9\\xe0\\xaf\\x8d',\n",
       " '\\xe0\\xae\\x89\\xe0\\xae\\xb0\\xe0\\xaf\\x81\\xe0\\xae\\xb5\\xe0\\xae\\xae\\xe0\\xaf\\x8d',\n",
       " '\\xe0\\xae\\xa4\\xe0\\xaf\\x87\\xe0\\xae\\xb5\\xe0\\xaf\\x88\\xe0\\xae\\xaf\\xe0\\xae\\xbf\\xe0\\xae\\xb2\\xe0\\xaf\\x8d\\xe0\\xae\\xb2\\xe0\\xaf\\x88,',\n",
       " '\\xe0\\xae\\xa8\\xe0\\xae\\xbf\\xe0\\xae\\xb4\\xe0\\xae\\xb4\\xe0\\xaf\\x8d\\xe0\\xae\\xa4\\xe0\\xaf\\x87\\xe0\\xae\\xb5\\xe0\\xaf\\x88\\xe0\\xae\\xaf\\xe0\\xae\\xbf\\xe0\\xae\\xb2\\xe0\\xaf\\x8d\\xe0\\xae\\xb2\\xe0\\xaf\\x88',\n",
       " '\\xe0\\xae\\x87\\xe0\\xae\\xb5\\xe0\\xae\\xa9\\xe0\\xaf\\x81\\xe0\\xae\\x9f\\xe0\\xaf\\x88\\xe0\\xae\\xaf']"
      ]
     },
     "execution_count": 8,
     "metadata": {},
     "output_type": "execute_result"
    }
   ],
   "source": [
    "url_regex = re.compile('^(?:(?:https?|ftp)://)(?:\\S+(?::\\S*)?@)?(?:(?:[1-9]\\d?|1\\d\\d|2[01]\\d|22[0-3])(?:\\.(?:1?\\d{1,2}|2[0-4]\\d|25[0-5])){2}(?:\\.(?:[1-9]\\d?|1\\d\\d|2[0-4]\\d|25[0-4]))|(?:(?:[a-z\\u00a1-\\uffff0-9]+-?)*[a-z\\u00a1-\\uffff0-9]+)(?:\\.(?:[a-z\\u00a1-\\uffff0-9]+-?)*[a-z\\u00a1-\\uffff0-9]+)*(?:\\.(?:[a-z\\u00a1-\\uffff]{2,})))(?::\\d{2,5})?(?:/[^\\s]*)?$')\n",
    "text_messages = df[df.action == message_action].text.values\n",
    "all_words = [word for item in text_messages for word in item.split()]\n",
    "\n",
    "urls = [word for word in all_words if re.match(url_regex, word)]\n",
    "stop_words = ['at', 'on', 'the']\n",
    "\n",
    "[word for word in all_words if (word not in stop_words) and (word not in urls)] "
   ]
  }
 ],
 "metadata": {
  "kernelspec": {
   "display_name": "Python 2",
   "language": "python",
   "name": "python2"
  },
  "language_info": {
   "codemirror_mode": {
    "name": "ipython",
    "version": 2
   },
   "file_extension": ".py",
   "mimetype": "text/x-python",
   "name": "python",
   "nbconvert_exporter": "python",
   "pygments_lexer": "ipython2",
   "version": "2.7.13"
  }
 },
 "nbformat": 4,
 "nbformat_minor": 0
}
